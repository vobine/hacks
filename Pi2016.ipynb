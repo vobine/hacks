{
 "cells": [
  {
   "cell_type": "markdown",
   "metadata": {},
   "source": [
    "# Pi Day 2016"
   ]
  },
  {
   "cell_type": "markdown",
   "metadata": {},
   "source": [
    "## Introduction: Exponential Polygons"
   ]
  },
  {
   "cell_type": "markdown",
   "metadata": {},
   "source": [
    "Welcome to Pi Day 2016 in Bend, OR! This year let's do a deterministic approximation using lots of Pythagoras and no trigonometry. The basic idea is to inscribe polygons, with progressively more sides, within a unit circle. The hope is that the area of the polygons will approach the area of the circle, which is $\\pi r^2 = \\pi$. To illustrate:"
   ]
  },
  {
   "cell_type": "code",
   "execution_count": 9,
   "metadata": {
    "collapsed": false
   },
   "outputs": [
    {
     "data": {
      "image/png": "[encoded data removed]",
      "text/plain": [
       "<matplotlib.figure.Figure at 0x108228b38>"
      ]
     },
     "metadata": {},
     "output_type": "display_data"
    }
   ],
   "source": [
    "%matplotlib inline\n",
    "import numpy as np\n",
    "import matplotlib.pyplot as plt\n",
    "\n",
    "def drawPolygon (n):\n",
    "    \"\"\"Draw an n-sided polygon centered at the origin.\"\"\"\n",
    "    theta = np.linspace (0, 2 * np.pi, n, endpoint=False)\n",
    "    plt.fill (np.cos (theta), np.sin (theta))\n",
    "    plt.axis ('equal')\n",
    "\n",
    "def drawCircle (samples=100, r=1):\n",
    "    \"\"\"Draw a circle centered at the origin.\"\"\"\n",
    "    theta = np.linspace (0, 2 * np.pi, samples, endpoint=False)\n",
    "    plt.plot (np.cos (theta), np.sin (theta))\n",
    "    plt.axis ('equal')\n",
    "\n",
    "drawCircle ()\n",
    "drawPolygon (4)"
   ]
  },
  {
   "cell_type": "markdown",
   "metadata": {
    "collapsed": true
   },
   "source": [
    "There's a square inscribed on a circle, which leaves four caps uncovered. The area of the inscribed square is $2$, which is clearly a lousy approximation to $pi$. More sides will surely be better. Details!\n",
    "## Triangles in the square\n",
    "We need to know the dimensions of that square. (Why is its area=2?)\n",
    "First let's split it in half to get two identical Isosceles triangles."
   ]
  },
  {
   "cell_type": "code",
   "execution_count": 10,
   "metadata": {
    "collapsed": false
   },
   "outputs": [
    {
     "data": {
      "image/png": "[encoded data removed]",
      "text/plain": [
       "<matplotlib.figure.Figure at 0x10b3bf390>"
      ]
     },
     "metadata": {},
     "output_type": "display_data"
    }
   ],
   "source": [
    "plt.fill ((-1, 0, 1), (0, 1, 0));\n",
    "plt.text (-0.55, 0.55, 'l')\n",
    "plt.plot ((0, 0), (0, 1), 'w:')\n",
    "plt.text (0.1, 0.4, 'h', color='w')\n",
    "plt.plot ((-1, 0, 1), (0, -1, 0))\n",
    "plt.axis ('equal');"
   ]
  },
  {
   "cell_type": "markdown",
   "metadata": {},
   "source": [
    "The base of that rather squashed-looking right Isosceles triangle is of length $2$.\n",
    "The two legs are of length $l$, so Pythagoras tells us that:\n",
    "\\begin{align}\n",
    "l^2 + l^2 & = 2^2 \\\\\n",
    "l^2 & = 4 / 2 = 2 \\\\\n",
    "l & = \\sqrt{2}.\n",
    "\\end{align}\n",
    "\n",
    "The height of the triangle $h=1$ by construction.\n",
    "The area is:\n",
    "\\begin{align}\n",
    "A & = b h / 2 \\\\\n",
    " & = 2 \\cdot 1 / 2 \\\\\n",
    " & = 1.\n",
    "\\end{align}\n",
    "\n",
    "Therefore the area of the square, composed of two triangles, is $1 + 1 = 2$.\n",
    "Fortunately, that's the same as the area computed as the product of lengths of its sides: $\\sqrt{2} \\cdot \\sqrt{2} = 2.$\n",
    "\n",
    "Now let's cut the square again."
   ]
  },
  {
   "cell_type": "code",
   "execution_count": 11,
   "metadata": {
    "collapsed": false
   },
   "outputs": [
    {
     "data": {
      "image/png": "[encoded data removed]",
      "text/plain": [
       "<matplotlib.figure.Figure at 0x10b0305f8>"
      ]
     },
     "metadata": {},
     "output_type": "display_data"
    }
   ],
   "source": [
    "def polygonFromTriangles (n):\n",
    "    \"\"\"Draw a polygon composed of Isosceles triangles.\"\"\"\n",
    "    theta = 2 * np.pi / n\n",
    "    for i in range (n):\n",
    "        plt.fill ((0, np.cos (theta * i), np.cos (theta * (i + 1))),\n",
    "                 (0, np.sin (theta * i), np.sin (theta * (i + 1))))\n",
    "    plt.axis ('equal')\n",
    "\n",
    "# Draw a square\n",
    "polygonFromTriangles (4)"
   ]
  },
  {
   "cell_type": "markdown",
   "metadata": {
    "collapsed": true
   },
   "source": [
    "This decomposes the square into four Isosceles triangles.\n",
    "The legs of the triangles are of length $1$, and the bases, as we have seen, are $\\sqrt{2}$.\n",
    "\n",
    "## Generalized area of an Isosceles triangle\n",
    "\n",
    "Given an Isosceles triangle with base $b$ and legs $l$, to compute the area $A=bh/2$ we first need to find the height $h$.\n",
    "As in the half-square above, the height is one leg of a right triangle with hypotenuse $l$ and other leg $b/2$; so that dear loon Pythagoras once again rides to our rescue.\n",
    "\\begin{align}\n",
    "l^2 & = h^2 + (b/2)^2 \\\\\n",
    "h & = \\sqrt{l^2 - (b/2)^2}.\n",
    "\\end{align}\n",
    "\n",
    "And thus the area:\n",
    "\\begin{align}\n",
    "A & = b h / 2 \\\\\n",
    " & = {b \\sqrt{l^2 - (b/2)^2} \\over 2}.\n",
    "\\end{align}"
   ]
  },
  {
   "cell_type": "code",
   "execution_count": 28,
   "metadata": {
    "collapsed": false
   },
   "outputs": [
    {
     "name": "stdout",
     "output_type": "stream",
     "text": [
      "Half-square area: 1.000000\n",
      "Quarter-square area: 0.500000\n"
     ]
    }
   ],
   "source": [
    "def isoscelesArea (b, l):\n",
    "    \"\"\"Compute area of an Isosceles triangle with one side of length b and two of length l.\"\"\"\n",
    "    h = np.sqrt (l * l - b * b / 4)\n",
    "    return b * h / 2, h\n",
    "\n",
    "print ('Half-square area: {0:f}'.format (isoscelesArea (2, np.sqrt (2))[0]))\n",
    "print ('Quarter-square area: {0:f}'.format (isoscelesArea (np.sqrt (2), 1)[0]))"
   ]
  },
  {
   "cell_type": "markdown",
   "metadata": {},
   "source": [
    "## Area of an $n$-sided regular polygon\n",
    "\n",
    "Every regular polygon inscribed on a circle (and, in fact, every regular polygon) has a center point, equidistant from every vertex. It's already $\\Pi$ Day, so I'll prove that later if I get the time (I won't).\n",
    "Thanks to that fact, we can decompose any inscribed polygon into Isosceles triangles, just as we did the square above.\n",
    "The area of the polygon is the sum of the areas of the trianges.\n",
    "The area of a *regular* $n$-sided polygon, then, is $n$ times the area of one of its component triangles.\n",
    "\n",
    "Almost there!\n",
    "\n",
    "## Doubling an inscribed polygon\n",
    "\n",
    "Given a regular polygon of $n$ sides inscribed on a circle, for which we know the length of a side $l_n$, we can compute $l_{2n}$, the length of a side of an inscribed regular $2n$-sided polygon.\n",
    "\n",
    "For example, here is a square doubled to an octagon:"
   ]
  },
  {
   "cell_type": "code",
   "execution_count": 20,
   "metadata": {
    "collapsed": false
   },
   "outputs": [
    {
     "data": {
      "image/png": "[encoded data removed]",
      "text/plain": [
       "<matplotlib.figure.Figure at 0x10b6f3b70>"
      ]
     },
     "metadata": {},
     "output_type": "display_data"
    }
   ],
   "source": [
    "drawCircle ()\n",
    "drawPolygon (8)\n",
    "drawPolygon (4)\n",
    "plt.plot ((0, 0, 1), (1, 0, 0), 'w-')\n",
    "plt.plot ((0, np.cos (np.pi/4)), (0, np.sin (np.pi/4)), 'w--');"
   ]
  },
  {
   "cell_type": "markdown",
   "metadata": {},
   "source": [
    "Let's take a closer look at the construction of the new Isosceles triangle, shown above with a dashed line."
   ]
  },
  {
   "cell_type": "code",
   "execution_count": 24,
   "metadata": {
    "collapsed": false
   },
   "outputs": [
    {
     "data": {
      "image/png": "[encoded data removed]",
      "text/plain": [
       "<matplotlib.figure.Figure at 0x10b5a1b70>"
      ]
     },
     "metadata": {},
     "output_type": "display_data"
    }
   ],
   "source": [
    "plt.plot ((0, 0.5, 1, 0), (0, 0.5, 0, 0))\n",
    "plt.plot ((0.5, np.cos (np.pi/4), 1), (0.5, np.sin (np.pi/4), 0))\n",
    "plt.axis ('equal')\n",
    "plt.grid ()\n",
    "plt.text (0.3, 0.35, '$h_4$')\n",
    "plt.text (0.65, 0.25, '$b_4/2$')\n",
    "plt.text (0.9, 0.3, '$b_8$')\n",
    "plt.text (0.55, 0.65, '$r - h_4$');"
   ]
  },
  {
   "cell_type": "markdown",
   "metadata": {},
   "source": [
    "That gives us all we need to compute $b_{2n}$:\n",
    "\\begin{align}\n",
    "b_{2n}^2 & = (b_n / 2)^2 + (r - h_n)^2 \\\\\n",
    "b_{2n} & = \\sqrt{(b_n / 2)^2 + (r - h_n)^2}\n",
    "\\end{align}\n",
    "\n",
    "We already know $b_n$ and $h_n$, and we've chosen $r=1$, so voila!\n",
    "We have the triangles that compose the $2n$-gon."
   ]
  },
  {
   "cell_type": "code",
   "execution_count": 29,
   "metadata": {
    "collapsed": false
   },
   "outputs": [
    {
     "name": "stdout",
     "output_type": "stream",
     "text": [
      "Side of an octagon: 0.765367\n",
      "Area of an octagon: 2.828427\n"
     ]
    }
   ],
   "source": [
    "def doublePolygon (b, h, r=1):\n",
    "    \"\"\"Given the base and height of an Isosceles component of an inscribed n-gon, compute the base of a 2n-gon.\"\"\"\n",
    "    leg = r - h\n",
    "    return np.sqrt (b * b / 4 + leg * leg)\n",
    "\n",
    "octobase = doublePolygon (np.sqrt (2), np.sqrt (2) / 2)\n",
    "print ('Side of an octagon: {0:f}'.format (octobase))\n",
    "print ('Area of an octagon: {0:f}'.format (8 * isoscelesArea (octobase, 1)[0]))"
   ]
  },
  {
   "cell_type": "markdown",
   "metadata": {},
   "source": [
    "As expected, the area of an inscribed regular octagon ($2.8$) is closer to the area of the circumscribed circle than the area of an inscribed square ($2$).\n",
    "\n",
    "## Pulling the pieces together\n",
    "\n",
    "So here, again, is the plan:\n",
    "1. Inscribe a regular polygon in a unit circle.\n",
    "2. Until satisfied:\n",
    "    1. Compute area of polygon.\n",
    "    2. Inscribe polygon with twice as many sides.\n",
    "3. Display $\\hat{\\pi} = A$."
   ]
  },
  {
   "cell_type": "code",
   "execution_count": 32,
   "metadata": {
    "collapsed": false
   },
   "outputs": [
    {
     "name": "stdout",
     "output_type": "stream",
     "text": [
      "(3.1412772509327729, 256, 0.024543076571439854)\n",
      "(3.1415926535895009, 8388608, 7.4901405658476858e-07)\n",
      "(3.1415926535897949, 1073741824, 5.8516723170686418e-09)\n"
     ]
    }
   ],
   "source": [
    "def polyPi (n, b):\n",
    "    \"\"\"Compute area of n-sided regular polygon inscribed on unit circle with sides length b.\"\"\"\n",
    "    ia, h = isoscelesArea (b, 1)\n",
    "    return n * ia, h\n",
    "\n",
    "def polyPiLoop (n=None, epsilon=0.001):\n",
    "    \"\"\"Compute a polygon approximation to Pi.\"\"\"\n",
    "\n",
    "    # Start with a square\n",
    "    sides = 4\n",
    "    base = np.sqrt (2)\n",
    "    previous = 0.0\n",
    "    current, h = polyPi (sides, base)\n",
    "    while current - previous > epsilon:\n",
    "        previous = current\n",
    "        base = doublePolygon (base, h)\n",
    "        sides *= 2\n",
    "        current, h = polyPi (sides, base)\n",
    "\n",
    "    return current, sides, base\n",
    "\n",
    "print (polyPiLoop ())\n",
    "print (polyPiLoop (epsilon=1.0e-12))\n",
    "print (polyPiLoop (epsilon=1.0e-30))"
   ]
  },
  {
   "cell_type": "code",
   "execution_count": 42,
   "metadata": {
    "collapsed": false
   },
   "outputs": [
    {
     "data": {
      "text/plain": [
       "<matplotlib.text.Text at 0x10c959208>"
      ]
     },
     "execution_count": 42,
     "metadata": {},
     "output_type": "execute_result"
    },
    {
     "data": {
      "image/png": "[encoded data removed]",
      "text/plain": [
       "<matplotlib.figure.Figure at 0x10bbad128>"
      ]
     },
     "metadata": {},
     "output_type": "display_data"
    }
   ],
   "source": [
    "def convergence (n=25):\n",
    "    \"\"\"Return a vector of estimated values for pi at each iteration.\"\"\"\n",
    "    sides = 4\n",
    "    base = np.sqrt (2)\n",
    "    estimates = np.zeros (n, dtype=float)\n",
    "    for i in range (n):\n",
    "        current, h = polyPi (sides, base)\n",
    "        estimates[i] = current\n",
    "        base = doublePolygon (base, h)\n",
    "        sides *= 2\n",
    "        \n",
    "    return estimates\n",
    "\n",
    "plt.semilogy (np.pi - convergence ())\n",
    "plt.xlabel ('Number of iterations')\n",
    "plt.ylabel ('Difference from $pi$')"
   ]
  },
  {
   "cell_type": "markdown",
   "metadata": {},
   "source": [
    "After 24 iterations, the result is within $10^{-15}$ of $pi$, which is the resolution of single-precision floating point.\n",
    "For further study: using higher-precision arithmetic."
   ]
  }
 ],
 "metadata": {
  "kernelspec": {
   "display_name": "Python 3",
   "language": "python",
   "name": "python3"
  },
  "language_info": {
   "codemirror_mode": {
    "name": "ipython",
    "version": 3
   },
   "file_extension": ".py",
   "mimetype": "text/x-python",
   "name": "python",
   "nbconvert_exporter": "python",
   "pygments_lexer": "ipython3",
   "version": "3.5.1"
  }
 },
 "nbformat": 4,
 "nbformat_minor": 0
}
