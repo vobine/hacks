{
 "cells": [
  {
   "cell_type": "markdown",
   "metadata": {},
   "source": [
    "# Pi Day 2016"
   ]
  },
  {
   "cell_type": "markdown",
   "metadata": {},
   "source": [
    "## Introduction: Exponential Polygons"
   ]
  },
  {
   "cell_type": "markdown",
   "metadata": {},
   "source": [
    "Welcome to Pi Day 2016 in Bend, OR! This year let's do a deterministic approximation using lots of Pythagoras and no trigonometry. The basic idea is to inscribe polygons, with progressively more sides, within a unit circle. The hope is that the area of the polygons will approach the area of the circle, which is $\\pi r^2 = \\pi$. To illustrate:"
   ]
  },
  {
   "cell_type": "code",
   "execution_count": 9,
   "metadata": {
    "collapsed": false
   },
   "outputs": [
    {
     "data": {
      "image/png": "[encoded data removed]",
      "text/plain": [
       "<matplotlib.figure.Figure at 0x108228b38>"
      ]
     },
     "metadata": {},
     "output_type": "display_data"
    }
   ],
   "source": [
    "%matplotlib inline\n",
    "import numpy as np\n",
    "import matplotlib.pyplot as plt\n",
    "\n",
    "def drawPolygon (n):\n",
    "    \"\"\"Draw an n-sided polygon centered at the origin.\"\"\"\n",
    "    theta = np.linspace (0, 2 * np.pi, n, endpoint=False)\n",
    "    plt.fill (np.cos (theta), np.sin (theta))\n",
    "    plt.axis ('equal')\n",
    "\n",
    "def drawCircle (samples=100, r=1):\n",
    "    \"\"\"Draw a circle centered at the origin.\"\"\"\n",
    "    theta = np.linspace (0, 2 * np.pi, samples, endpoint=False)\n",
    "    plt.plot (np.cos (theta), np.sin (theta))\n",
    "    plt.axis ('equal')\n",
    "\n",
    "drawCircle ()\n",
    "drawPolygon (4)"
   ]
  },
  {
   "cell_type": "markdown",
   "metadata": {
    "collapsed": true
   },
   "source": [
    "There's a square inscribed on a circle, which leaves four caps uncovered. The area of the inscribed square is $2$, which is clearly a lousy approximation to $pi$. More sides will surely be better. Details!\n",
    "## Triangles in the square\n",
    "We need to know the dimensions of that square. (Why is its area=2?)\n",
    "First let's split it in half to get two identical Isosceles triangles."
   ]
  },
  {
   "cell_type": "code",
   "execution_count": 10,
   "metadata": {
    "collapsed": false
   },
   "outputs": [
    {
     "data": {
      "image/png": "[encoded data removed]",
      "text/plain": [
       "<matplotlib.figure.Figure at 0x10b3bf390>"
      ]
     },
     "metadata": {},
     "output_type": "display_data"
    }
   ],
   "source": [
    "plt.fill ((-1, 0, 1), (0, 1, 0));\n",
    "plt.text (-0.55, 0.55, 'l')\n",
    "plt.plot ((0, 0), (0, 1), 'w:')\n",
    "plt.text (0.1, 0.4, 'h', color='w')\n",
    "plt.plot ((-1, 0, 1), (0, -1, 0))\n",
    "plt.axis ('equal');"
   ]
  },
  {
   "cell_type": "markdown",
   "metadata": {},
   "source": [
    "The base of that rather squashed-looking right Isosceles triangle is of length $2$.\n",
    "The two legs are of length $l$, so Pythagoras tells us that:\n",
    "\\begin{align}\n",
    "l^2 + l^2 & = 2^2 \\\\\n",
    "l^2 & = 4 / 2 = 2 \\\\\n",
    "l & = \\sqrt{2}.\n",
    "\\end{align}\n",
    "\n",
    "The height of the triangle $h=1$ by construction.\n",
    "The area is:\n",
    "\\begin{align}\n",
    "A & = b h / 2 \\\\\n",
    " & = 2 \\cdot 1 / 2 \\\\\n",
    " & = 1.\n",
    "\\end{align}\n",
    "\n",
    "Therefore the area of the square, composed of two triangles, is $1 + 1 = 2$.\n",
    "Fortunately, that's the same as the area computed as the product of lengths of its sides: $\\sqrt{2} \\cdot \\sqrt{2} = 2.$\n",
    "\n",
    "Now let's cut the square again."
   ]
  },
  {
   "cell_type": "code",
   "execution_count": 11,
   "metadata": {
    "collapsed": false
   },
   "outputs": [
    {
     "data": {
      "image/png": "[encoded data removed]",
      "text/plain": [
       "<matplotlib.figure.Figure at 0x10b0305f8>"
      ]
     },
     "metadata": {},
     "output_type": "display_data"
    }
   ],
   "source": [
    "def polygonFromTriangles (n):\n",
    "    \"\"\"Draw a polygon composed of Isosceles triangles.\"\"\"\n",
    "    theta = 2 * np.pi / n\n",
    "    for i in range (n):\n",
    "        plt.fill ((0, np.cos (theta * i), np.cos (theta * (i + 1))),\n",
    "                 (0, np.sin (theta * i), np.sin (theta * (i + 1))))\n",
    "    plt.axis ('equal')\n",
    "\n",
    "# Draw a square\n",
    "polygonFromTriangles (4)"
   ]
  },
  {
   "cell_type": "markdown",
   "metadata": {
    "collapsed": true
   },
   "source": [
    "This decomposes the square into four Isosceles triangles.\n",
    "The legs of the triangles are of length $1$, and the bases, as we have seen, are $\\sqrt{2}$.\n",
    "\n",
    "## Generalized area of an Isosceles triangle\n",
    "\n",
    "Given an Isosceles triangle with base $b$ and legs $l$, to compute the area $A=bh/2$ we first need to find the height $h$.\n",
    "As in the half-square above, the height is one leg of a right triangle with hypotenuse $l$ and other leg $b/2$; so that dear loon Pythagoras once again rides to our rescue.\n",
    "\\begin{align}\n",
    "l^2 & = h^2 + (b/2)^2 \\\\\n",
    "h & = \\sqrt{l^2 - (b/2)^2}.\n",
    "\\end{align}\n",
    "\n",
    "And thus the area:\n",
    "\\begin{align}\n",
    "A & = b h / 2 \\\\\n",
    " & = {b \\sqrt{l^2 - (b/2)^2} \\over 2}.\n",
    "\\end{align}"
   ]
  },
  {
   "cell_type": "code",
   "execution_count": 16,
   "metadata": {
    "collapsed": false
   },
   "outputs": [
    {
     "name": "stdout",
     "output_type": "stream",
     "text": [
      "Half-square area: 1.000000\n",
      "Quarter-square area: 0.500000\n"
     ]
    }
   ],
   "source": [
    "def isoscelesArea (b, l):\n",
    "    \"\"\"Compute area of an Isosceles triangle with one side of length b and two of length l.\"\"\"\n",
    "    return b * np.sqrt (l * l - b * b / 4) / 2\n",
    "\n",
    "print ('Half-square area: {0:f}'.format (isoscelesArea (2, np.sqrt (2))))\n",
    "print ('Quarter-square area: {0:f}'.format (isoscelesArea (np.sqrt (2), 1)))"
   ]
  },
  {
   "cell_type": "markdown",
   "metadata": {},
   "source": [
    "## Area of an $n$-sided polygon\n",
    "\n"
   ]
  }
 ],
 "metadata": {
  "kernelspec": {
   "display_name": "Python 3",
   "language": "python",
   "name": "python3"
  },
  "language_info": {
   "codemirror_mode": {
    "name": "ipython",
    "version": 3
   },
   "file_extension": ".py",
   "mimetype": "text/x-python",
   "name": "python",
   "nbconvert_exporter": "python",
   "pygments_lexer": "ipython3",
   "version": "3.5.1"
  }
 },
 "nbformat": 4,
 "nbformat_minor": 0
}
