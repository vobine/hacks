{
 "cells": [
  {
   "cell_type": "markdown",
   "metadata": {},
   "source": [
    "# Pi Day 2016"
   ]
  },
  {
   "cell_type": "markdown",
   "metadata": {},
   "source": [
    "## Introduction: Exponential Polygons"
   ]
  },
  {
   "cell_type": "markdown",
   "metadata": {},
   "source": [
    "Welcome to Pi Day 2016 in Bend, OR! This year let's do a deterministic approximation using lots of Pythagoras and no trigonometry. The basic idea is to inscribe polygons, with progressively more sides, within a unit circle. The hope is that the area of the polygons will approach the area of the circle, which is $\\pi r^2 = \\pi$. To illustrate:"
   ]
  },
  {
   "cell_type": "code",
   "execution_count": 4,
   "metadata": {
    "collapsed": false
   },
   "outputs": [
    {
     "data": {
      "image/png": "[encoded data removed]",
      "text/plain": [
       "<matplotlib.figure.Figure at 0x10ae16828>"
      ]
     },
     "metadata": {},
     "output_type": "display_data"
    }
   ],
   "source": [
    "%matplotlib inline\n",
    "import numpy as np\n",
    "import matplotlib.pyplot as plt\n",
    "\n",
    "def drawPolygon (n):\n",
    "    \"\"\"Draw an n-sided polygon centered at the origin.\"\"\"\n",
    "    theta = np.linspace (0, 2 * np.pi, n, endpoint=False)\n",
    "    plt.fill (np.cos (theta), np.sin (theta))\n",
    "    plt.axis ('equal')\n",
    "\n",
    "def drawCircle (samples=100, r=1):\n",
    "    \"\"\"Draw a circle centered at the origin.\"\"\"\n",
    "    theta = np.linspace (0, 2 * np.pi, samples, endpoint=False)\n",
    "    plt.plot (np.cos (theta), np.sin (theta))\n",
    "    plt.axis ('equal')\n",
    "\n",
    "drawCircle ()\n",
    "drawPolygon (4)"
   ]
  },
  {
   "cell_type": "markdown",
   "metadata": {
    "collapsed": true
   },
   "source": [
    "There's a square inscribed on a circle, which leaves four caps uncovered. The area of the inscribed square is $2$, which is clearly a lousy approximation to $pi$. More sides will surely be better. Details!\n",
    "## Area of an $n$-sided polygon\n",
    "Consider a polygon with $n$ sides to be composed of $n$ identical Isosceles triangles. Here's a square:"
   ]
  },
  {
   "cell_type": "code",
   "execution_count": 5,
   "metadata": {
    "collapsed": false
   },
   "outputs": [
    {
     "data": {
      "image/png": "[encoded data removed]",
      "text/plain": [
       "<matplotlib.figure.Figure at 0x10af07908>"
      ]
     },
     "metadata": {},
     "output_type": "display_data"
    }
   ],
   "source": [
    "def polygonFromTriangles (n):\n",
    "    \"\"\"Draw a polygon composed of Isosceles triangles.\"\"\"\n",
    "    theta = 2 * np.pi / n\n",
    "    for i in range (n):\n",
    "        plt.fill ((0, np.cos (theta * i), np.cos (theta * (i + 1))),\n",
    "                 (0, np.sin (theta * i), np.sin (theta * (i + 1))))\n",
    "    plt.axis ('equal')\n",
    "\n",
    "# Draw a square\n",
    "polygonFromTriangles (4)"
   ]
  },
  {
   "cell_type": "markdown",
   "metadata": {},
   "source": [
    "This decomposes the square into four Isosceles triangles.\n",
    "The legs of the triangles are of length $1$, and the bases are $\\sqrt{2}$.\n",
    "\n",
    "Aside: why are the bases $\\sqrt{2}$?\n",
    "Consider half of the square:"
   ]
  },
  {
   "cell_type": "code",
   "execution_count": 15,
   "metadata": {
    "collapsed": false
   },
   "outputs": [
    {
     "data": {
      "text/plain": [
       "(-1.0, 1.0, 0.0, 1.0)"
      ]
     },
     "execution_count": 15,
     "metadata": {},
     "output_type": "execute_result"
    },
    {
     "data": {
      "image/png": "[encoded data removed]",
      "text/plain": [
       "<matplotlib.figure.Figure at 0x10b4ebb38>"
      ]
     },
     "metadata": {},
     "output_type": "display_data"
    }
   ],
   "source": [
    "plt.fill ((-1, 0, 1), (0, 1, 0));\n",
    "plt.text (-0.55, 0.55, 'l')\n",
    "plt.plot ((0, 0), (0, 1), 'w:')\n",
    "plt.text (0.1, 0.4, 'h', color='w')\n",
    "plt.axis ('equal')"
   ]
  },
  {
   "cell_type": "markdown",
   "metadata": {},
   "source": [
    "The base of that rather squashed-looking right Isosceles triangle is of length $2$.\n",
    "The two legs are of length $l$, so Pythagoras tells us that:\n",
    "\\begin{align}\n",
    "l^2 + l^2 & = 2^2 \\\\\n",
    "l^2 & = 4 / 2 = 2 \\\\\n",
    "l & = \\sqrt{2}.\n",
    "\\end{align}\n",
    "\n",
    "The height of the triangle $h=1$ by construction.\n",
    "The area is:\n",
    "\\begin{align}\n",
    "A & = b h / 2 \\\\\n",
    " & = 2 \\cdot 1 / 2 \\\\\n",
    " & = 1.\n",
    "\\end{align}\n"
   ]
  },
  {
   "cell_type": "code",
   "execution_count": null,
   "metadata": {
    "collapsed": true
   },
   "outputs": [],
   "source": []
  }
 ],
 "metadata": {
  "kernelspec": {
   "display_name": "Python 3",
   "language": "python",
   "name": "python3"
  },
  "language_info": {
   "codemirror_mode": {
    "name": "ipython",
    "version": 3
   },
   "file_extension": ".py",
   "mimetype": "text/x-python",
   "name": "python",
   "nbconvert_exporter": "python",
   "pygments_lexer": "ipython3",
   "version": "3.5.1"
  }
 },
 "nbformat": 4,
 "nbformat_minor": 0
}
